{
 "cells": [
  {
   "cell_type": "code",
   "execution_count": null,
   "metadata": {
    "collapsed": true
   },
   "outputs": [],
   "source": [
    "import numpy as np\n",
    "import cv2\n",
    "import matplotlib.pyplot as plt\n",
    "import matplotlib.image as mpimg\n",
    "import os\n",
    "%matplotlib inline\n",
    "\n",
    "curr_dir = os.getcwd()\n",
    "\n",
    "img_dir = os.path.join(curr_dir, 'data/img')\n",
    "# file list:\n",
    "img_list = [os.path.join(img_dir, f) for f in os.listdir(img_dir) \n",
    "            if os.path.isfile(os.path.join(img_dir, f)) and f[-4:]=='.jpg']\n"
   ]
  },
  {
   "cell_type": "markdown",
   "metadata": {},
   "source": [
    "## Check thresholds in RGB colorspace"
   ]
  },
  {
   "cell_type": "code",
   "execution_count": null,
   "metadata": {},
   "outputs": [],
   "source": [
    "from ipywidgets import interactive, IntRangeSlider, Dropdown\n",
    "\n",
    "def refresh(filename, r_tres, g_tres, b_tres):\n",
    "    original_image = cv2.cvtColor(cv2.imread(filename), cv2.COLOR_BGR2RGB)\n",
    "    \n",
    "    f, (ax1, ax2) = plt.subplots(1, 2, figsize=(24, 9))\n",
    "    f.tight_layout()\n",
    "    ax1.imshow(original_image)\n",
    "    ax1.set_title('Original image')\n",
    "    \n",
    "    max_thres = np.array([r_tres[1], g_tres[1], b_tres[1]], np.uint8)\n",
    "    min_thres = np.array([r_tres[0], g_tres[0], b_tres[0]], np.uint8)\n",
    "    \n",
    "    bin_image = np.zeros_like(original_image[:, : ,0])\n",
    "    \n",
    "    cv2.inRange(original_image, min_thres, max_thres, bin_image)\n",
    "    ax2.imshow(bin_image, 'gray')\n",
    "    ax2.set_title('thresholds applied')\n",
    "\n",
    "file_selector = Dropdown(options=img_list, value=img_list[0], description='Filename')\n",
    "Rfilter = IntRangeSlider(value=[0, 255], min=0, max=255, step=1, description='Red Channel Thres')\n",
    "Gfilter = IntRangeSlider(value=[0, 255], min=0, max=255, step=1, description='Green Channel Thres')\n",
    "Bfilter = IntRangeSlider(value=[0, 255], min=0, max=255, step=1, description='Blue Channel Thres')\n",
    "\n",
    "\n",
    "interactive(refresh, filename=file_selector, r_tres=Rfilter, g_tres=Gfilter, b_tres=Bfilter)"
   ]
  },
  {
   "cell_type": "markdown",
   "metadata": {
    "collapsed": true
   },
   "source": [
    "## Check thresholds in HSV colorspace"
   ]
  },
  {
   "cell_type": "code",
   "execution_count": null,
   "metadata": {},
   "outputs": [],
   "source": [
    "def refresh(filename, h, s, v):\n",
    "    \n",
    "    \n",
    "    f, (ax1, ax2) = plt.subplots(1, 2, figsize=(24, 9))\n",
    "    f.tight_layout()\n",
    "    ax1.imshow(cv2.cvtColor(cv2.imread(filename), cv2.COLOR_BGR2RGB))\n",
    "    ax1.set_title('Original image')\n",
    "    \n",
    "    original_image_hsv = cv2.cvtColor(cv2.imread(filename), cv2.COLOR_BGR2HSV)\n",
    "    max_thres = np.array([h[1], s[1], v[1]], np.uint8)\n",
    "    min_thres = np.array([h[0], s[0], v[0]], np.uint8)\n",
    "    \n",
    "    bin_image = np.zeros_like(original_image_hsv[:, : ,0])\n",
    "    \n",
    "    cv2.inRange(original_image_hsv, min_thres, max_thres, bin_image)\n",
    "    ax2.imshow(bin_image, 'gray')\n",
    "    ax2.set_title('thresholds applied')\n",
    "\n",
    "file_selector = Dropdown(options=img_list, value=img_list[0], description='Filename')\n",
    "h_filter = IntRangeSlider(value=[0, 255], min=0, max=255, step=1, description='Hue Thres')\n",
    "s_filter = IntRangeSlider(value=[0, 255], min=0, max=255, step=1, description='Saturation Thres')\n",
    "v_filter = IntRangeSlider(value=[0, 255], min=0, max=255, step=1, description='Value Thres')\n",
    "\n",
    "\n",
    "interactive(refresh, filename=file_selector, h=h_filter, s=s_filter, v=v_filter)"
   ]
  },
  {
   "cell_type": "code",
   "execution_count": null,
   "metadata": {
    "collapsed": true
   },
   "outputs": [],
   "source": []
  }
 ],
 "metadata": {
  "kernelspec": {
   "display_name": "Python 3",
   "language": "python",
   "name": "python3"
  },
  "language_info": {
   "codemirror_mode": {
    "name": "ipython",
    "version": 3
   },
   "file_extension": ".py",
   "mimetype": "text/x-python",
   "name": "python",
   "nbconvert_exporter": "python",
   "pygments_lexer": "ipython3",
   "version": "3.5.2"
  },
  "widgets": {
   "state": {
    "02c0671d064b402784175246639e15b1": {
     "views": []
    },
    "0e607605fc804060b5f941ce9f9a210d": {
     "views": []
    },
    "15513752142d459394e39c1c2289dff5": {
     "views": []
    },
    "1c8cf4475eca4b40884536361df1833d": {
     "views": []
    },
    "1d30558c14494896b8da77482a2d86ec": {
     "views": []
    },
    "1f0c2d23851f492d885e729f5313bb91": {
     "views": []
    },
    "2948a28ea11e4a9993c9754c979cca27": {
     "views": []
    },
    "2b69b68b508741eb8995563eb4f2cb81": {
     "views": []
    },
    "2f4570fb621247f980563f18f3e73398": {
     "views": []
    },
    "3252936cceb24852a01f7a146043e879": {
     "views": []
    },
    "362bd05c20cb419094578b15da065555": {
     "views": []
    },
    "3676f735600942fe8388738b59887619": {
     "views": []
    },
    "41578cc5011946629fcd02885412ef4e": {
     "views": []
    },
    "46776d832aa64db5b74ccd0e65e20d27": {
     "views": []
    },
    "48774447ffb84e03b09b72a8dad9b6cb": {
     "views": []
    },
    "56a9912623ec4beaaa0a509f4c6d9b3e": {
     "views": []
    },
    "57370dee30f14fa4a88cdbae8633951b": {
     "views": []
    },
    "5b52bd2f661d430094d2a7b4594b608c": {
     "views": []
    },
    "5ce08b91eb0d4f259dc6b09df928c836": {
     "views": []
    },
    "5f59212bc1b144ef9a3f0e906638f9c6": {
     "views": []
    },
    "614fe8bd030a4e4482408afc9ebd3737": {
     "views": []
    },
    "66549a7c261e42a389b194c4796351bd": {
     "views": []
    },
    "6918fcd102334b2682d11d10f94c71a2": {
     "views": []
    },
    "6966fdc80e63441fb25c66cd0bb8dd90": {
     "views": []
    },
    "75f9bb1c143541df9e172640da28c93f": {
     "views": []
    },
    "7ab66a3660294c0393622f45519113d9": {
     "views": []
    },
    "8fd241347d2a4435a26c8c55296d567f": {
     "views": []
    },
    "98a27fabb0fb4c8fba04c0f58347e2ec": {
     "views": []
    },
    "a0fbe6a4476d46998fe9e108aa4cd45a": {
     "views": []
    },
    "a1b664a74610459a8fb4884c60915778": {
     "views": []
    },
    "a3a52fdfc7b54e64a838d76f85798ef0": {
     "views": []
    },
    "b3fd718d514c4f5d8164097269fa64b8": {
     "views": [
      {
       "cell_index": 2
      }
     ]
    },
    "b8bf7d431e0546ef9bf6d39045f26795": {
     "views": []
    },
    "bec725c51a6a4e77a96c3b054e53c7eb": {
     "views": []
    },
    "c1c61c67623540c4835b547fd21fa698": {
     "views": []
    },
    "c5d6f4778acc4845abb82d9c90543dca": {
     "views": []
    },
    "c7493e330daa447482ea2ad5fe38bdb2": {
     "views": [
      {
       "cell_index": 4
      }
     ]
    },
    "d749e4b93c3b4314aa0e18708406bc71": {
     "views": []
    },
    "fac656f15ed44bb69b1cfb91b21f3714": {
     "views": []
    },
    "fba84aeed6774c45a5bff2a1be47794f": {
     "views": []
    }
   },
   "version": "1.1.2"
  }
 },
 "nbformat": 4,
 "nbformat_minor": 2
}
