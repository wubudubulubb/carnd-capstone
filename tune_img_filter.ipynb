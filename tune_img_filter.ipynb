{
 "cells": [
  {
   "cell_type": "code",
   "execution_count": 31,
   "metadata": {},
   "outputs": [],
   "source": [
    "import numpy as np\n",
    "import cv2\n",
    "import matplotlib.pyplot as plt\n",
    "import matplotlib.image as mpimg\n",
    "import os\n",
    "%matplotlib inline\n",
    "\n",
    "curr_dir = os.getcwd()\n",
    "\n",
    "img_dir = os.path.join(curr_dir, 'data/img')\n",
    "# file list:\n",
    "img_list = [os.path.join(img_dir, f) for f in os.listdir(img_dir) \n",
    "            if os.path.isfile(os.path.join(img_dir, f)) and f[-4:]=='.jpg']\n"
   ]
  },
  {
   "cell_type": "code",
   "execution_count": 37,
   "metadata": {},
   "outputs": [],
   "source": [
    "from ipywidgets import interactive, IntRangeSlider, Dropdown\n",
    "\n",
    "def refresh(filename, r_tres, g_tres, b_tres):\n",
    "    original_image = cv2.cvtColor(cv2.imread(filename), cv2.COLOR_BGR2RGB)\n",
    "    \n",
    "    f, (ax1, ax2) = plt.subplots(1, 2, figsize=(24, 9))\n",
    "    f.tight_layout()\n",
    "    ax1.imshow(original_image)\n",
    "    ax1.set_title('Original image')\n",
    "    \n",
    "    max_thres = np.array([r_tres[1], g_tres[1], b_tres[1]], np.uint8)\n",
    "    min_thres = np.array([r_tres[0], g_tres[0], b_tres[0]], np.uint8)\n",
    "    \n",
    "    bin_image = np.zeros_like(original_image[:, : ,0])\n",
    "    \n",
    "    cv2.inRange(original_image, min_thres, max_thres, bin_image)\n",
    "    ax2.imshow(bin_image, 'gray')\n",
    "    ax2.set_title('thresholds applied')\n",
    "\n",
    "file_selector = Dropdown(options=img_list, value=img_list[0], description='Filename')\n",
    "Rfilter = IntRangeSlider(value=[0, 255], min=0, max=255, step=1, description='Red Channel Thres')\n",
    "Gfilter = IntRangeSlider(value=[0, 255], min=0, max=255, step=1, description='Green Channel Thres')\n",
    "Bfilter = IntRangeSlider(value=[0, 255], min=0, max=255, step=1, description='Blue Channel Thres')\n",
    "\n",
    "\n",
    "interactive(refresh, filename=file_selector, r_tres=Rfilter, g_tres=Gfilter, b_tres=Bfilter)"
   ]
  },
  {
   "cell_type": "code",
   "execution_count": null,
   "metadata": {
    "collapsed": true
   },
   "outputs": [],
   "source": []
  }
 ],
 "metadata": {
  "kernelspec": {
   "display_name": "Python 3",
   "language": "python",
   "name": "python3"
  },
  "widgets": {
   "state": {
    "01bc852886f443499c4e5ba886d8a4ce": {
     "views": []
    },
    "09e1e552c7ac4fe6bf6958063954fb0b": {
     "views": []
    },
    "0ac6baa004de43c097651c069c38ae92": {
     "views": []
    },
    "0d7113b93be144c9b6da17e814f720b2": {
     "views": []
    },
    "0d7ad1a19dad448a85ee65bd9f2aab00": {
     "views": []
    },
    "0d82025dcd7947b5bd81665aa0cba34d": {
     "views": []
    },
    "0e661e9d29074301982b5ace80f0b519": {
     "views": []
    },
    "118f56d0d441443f819c9dd60ed23f5b": {
     "views": []
    },
    "13ffc6f4ca374ced8d7e7ffa9c6b42c8": {
     "views": []
    },
    "1600df15ea824f518c863ad2b918e876": {
     "views": []
    },
    "1a26641b4ad444659a30726c236a77af": {
     "views": []
    },
    "1e5d9b1135604235bbf5b0c223f07cfa": {
     "views": []
    },
    "1f19ea239b7c4d56868476f611b19bc3": {
     "views": []
    },
    "2153e801c762478a860c67f51e8e0e7e": {
     "views": []
    },
    "21cdc24fd7984436ab8232a6cd5709e4": {
     "views": []
    },
    "22bbb81dde54485d9f0ba10b756b5738": {
     "views": []
    },
    "2deb92fc220f43e5966aac6acb2ac2ce": {
     "views": []
    },
    "3112a85033e3430b8cf0e0e320cecfef": {
     "views": []
    },
    "34ab864f927a4f559856ece96836e712": {
     "views": []
    },
    "3e39bc59463e4856b9059afbc2f85b40": {
     "views": []
    },
    "3f701cc6ceb9454fa6da10166135cdcf": {
     "views": []
    },
    "40e7fbbf0e8142bfb65a054afeae962c": {
     "views": []
    },
    "42d825bbcd974ca2b76ca71b47827457": {
     "views": []
    },
    "450a9805efee4eeb97faecfb5ae707ab": {
     "views": []
    },
    "490455dfc2fd4aa8b904746a0aecec06": {
     "views": []
    },
    "4b415775454e4b2f9a74b4f87a0812dc": {
     "views": []
    },
    "4b6f3dddb6bf43878d4f6ee846767a4a": {
     "views": []
    },
    "4d6f6848ea5a40f9a5e09d119b2918ce": {
     "views": []
    },
    "4f199d33e2b547018638a202df5c6b93": {
     "views": []
    },
    "50136f6fea1e470da61ea5c3dc15dcaa": {
     "views": []
    },
    "5127005c3b07447ea915b528004dc2d5": {
     "views": []
    },
    "5948b0e258254b678cbcfe1d5683299d": {
     "views": []
    },
    "5a2b0898c1104675976b82454f8d4920": {
     "views": []
    },
    "5aabf8b2156f4df08b37706f14db6f20": {
     "views": []
    },
    "66878eb909884388a96cb1c3fe5d24d4": {
     "views": []
    },
    "6996828894a64850b3710b24a0ab5e0d": {
     "views": []
    },
    "6c8fb2b3ab9a4b82915c19fda6a3d7dd": {
     "views": []
    },
    "6d96afde48ce4f388db534c778305641": {
     "views": []
    },
    "6fc77cc560ba4a5bb9fbcc7888f4eaa1": {
     "views": []
    },
    "7033e9e090934823a0638ee8c6bd9fc8": {
     "views": []
    },
    "715d4a96f9db4caeb5c9f25251027797": {
     "views": []
    },
    "71892d6330674ab996c3e93d6871692c": {
     "views": []
    },
    "72244e8e135c4eb2a506f39b5e3a2855": {
     "views": []
    },
    "72cc4862a60647aabcc92b9af8e6b0d9": {
     "views": [
      {
       "cell_index": 1
      }
     ]
    },
    "769a842754734d25bbe50ca2a8fe45cb": {
     "views": []
    },
    "77ccd9380fb9449491a642f7961e2994": {
     "views": []
    },
    "79289c9753394746b16fb0086dda6583": {
     "views": []
    },
    "7b98012cd0c548168922e7cd3aef2242": {
     "views": []
    },
    "7c6cbca0d24c4227834e37821bb647da": {
     "views": []
    },
    "7e65a9a56ea74c5881f313a0aa6198a1": {
     "views": []
    },
    "819d772334fa4833b5108063381dcdc9": {
     "views": []
    },
    "823dc9741d7f4e66883a7670ef35cca1": {
     "views": []
    },
    "8289c75993904e37b2c9df6c2e1a210f": {
     "views": []
    },
    "83a1edabd4a74897bd8d25166c504fdf": {
     "views": []
    },
    "86e02382721c489aa50f6693bac3e84a": {
     "views": []
    },
    "8c11d6777e8e422c8f84ab26bd774171": {
     "views": []
    },
    "991c788c97dc4644bfb241dbacd2d4bf": {
     "views": []
    },
    "99234258fef14fab8d33c88cf41af750": {
     "views": []
    },
    "9bbcb8c09bbd402ea6705c0bc63fd845": {
     "views": []
    },
    "9d0f4c283b404188a5639c2fc2c33b02": {
     "views": []
    },
    "a39903ddb2234380823fcbd480736737": {
     "views": []
    },
    "a5c5c151d338490eb95ad32c0e19073b": {
     "views": []
    },
    "a72bf79a41a84d9d8436d54cd80756f1": {
     "views": []
    },
    "a8545ec1b1ba4c978b34c7e3d36bf563": {
     "views": []
    },
    "a93e434143664f07946cd5f7d2fa3dd3": {
     "views": []
    },
    "a96d81c33fd640f9be8486d0f9e14c00": {
     "views": []
    },
    "ab91b8b9f4f547739fae9fbd820d96b9": {
     "views": []
    },
    "ac5c72c3da774a95bb61b23a4116432e": {
     "views": []
    },
    "b67ee387242b4d7e8ad787a06934da9d": {
     "views": []
    },
    "b7261d1684344676b1b9ad6b355d37e4": {
     "views": []
    },
    "bce813bd9d7a4ff7a8a702a002e4454c": {
     "views": []
    },
    "c24aaa0c6a9f476d9aeae3bbf3ee2ee4": {
     "views": []
    },
    "c8c63f6715e74ab7b18bae0f3ebf3fe3": {
     "views": []
    },
    "cb2863d1e9664ddea15763c524cb8f46": {
     "views": []
    },
    "d729a23b5f064ecab22df83e16401907": {
     "views": []
    },
    "d89d5a3f713c4f0190cad334a494b23a": {
     "views": []
    },
    "d93db2b4336349e2acbf6779dbfb7c76": {
     "views": []
    },
    "da0ec14ad68b48419d236419c79c49a4": {
     "views": []
    },
    "da97dbb2d6244ed68311de34e48aed2a": {
     "views": []
    },
    "dbda50da3e774e69af59a58269c9812d": {
     "views": []
    },
    "dd0fcb1c2a8e42e18c58c6cf58d97e23": {
     "views": []
    },
    "de7c35bdde1c4f069f8acf5ed932f056": {
     "views": []
    },
    "e10e5605b3924d67810e9c2747c1e8bc": {
     "views": []
    },
    "e2d92f995c514b70a99177d61932a540": {
     "views": []
    },
    "e2e1404a5b8d4b578c813cb18d226d4a": {
     "views": []
    },
    "e480087985ac4b16ba395b0761a93f42": {
     "views": []
    },
    "e8b494a1ea8c4dafbd7bd92cf4f28c3b": {
     "views": []
    },
    "ebb0bddd8ffd414092199f78a15578a4": {
     "views": []
    },
    "ef84187a48bf4362ad3eccdcdf83eb2e": {
     "views": []
    },
    "f062df703b67448b8d080993c01bf36a": {
     "views": []
    },
    "f7ef1994898749c98e46b30ef5acffc7": {
     "views": []
    },
    "f8ae4b0cec214cd09e2da75c668934bf": {
     "views": []
    }
   },
   "version": "1.1.2"
  }
 },
 "nbformat": 4,
 "nbformat_minor": 2
}
