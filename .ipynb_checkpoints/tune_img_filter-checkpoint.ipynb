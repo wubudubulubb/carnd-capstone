{
 "cells": [
  {
   "cell_type": "code",
   "execution_count": 1,
   "metadata": {},
   "outputs": [
    {
     "ename": "FileNotFoundError",
     "evalue": "[Errno 2] No such file or directory: '/Users/emresezginalp/carndterm3/capstone/data/img/traffic_light_ds/simulator_sort/RED'",
     "output_type": "error",
     "traceback": [
      "\u001b[0;31m---------------------------------------------------------------------------\u001b[0m",
      "\u001b[0;31mFileNotFoundError\u001b[0m                         Traceback (most recent call last)",
      "\u001b[0;32m<ipython-input-1-f503d091b268>\u001b[0m in \u001b[0;36m<module>\u001b[0;34m()\u001b[0m\n\u001b[1;32m     10\u001b[0m \u001b[0mimg_dir\u001b[0m \u001b[0;34m=\u001b[0m \u001b[0mos\u001b[0m\u001b[0;34m.\u001b[0m\u001b[0mpath\u001b[0m\u001b[0;34m.\u001b[0m\u001b[0mjoin\u001b[0m\u001b[0;34m(\u001b[0m\u001b[0mcurr_dir\u001b[0m\u001b[0;34m,\u001b[0m \u001b[0;34m'data/img/traffic_light_ds/simulator_sort/RED'\u001b[0m\u001b[0;34m)\u001b[0m\u001b[0;34m\u001b[0m\u001b[0m\n\u001b[1;32m     11\u001b[0m \u001b[0;31m# file list:\u001b[0m\u001b[0;34m\u001b[0m\u001b[0;34m\u001b[0m\u001b[0m\n\u001b[0;32m---> 12\u001b[0;31m img_list = [os.path.join(img_dir, f) for f in os.listdir(img_dir) \n\u001b[0m\u001b[1;32m     13\u001b[0m             if os.path.isfile(os.path.join(img_dir, f)) and f[-4:]=='.jpg']\n",
      "\u001b[0;31mFileNotFoundError\u001b[0m: [Errno 2] No such file or directory: '/Users/emresezginalp/carndterm3/capstone/data/img/traffic_light_ds/simulator_sort/RED'"
     ]
    }
   ],
   "source": [
    "import numpy as np\n",
    "import cv2\n",
    "import matplotlib.pyplot as plt\n",
    "import matplotlib.image as mpimg\n",
    "import os\n",
    "%matplotlib inline\n",
    "\n",
    "curr_dir = os.getcwd()\n",
    "\n",
    "img_dir = os.path.join(curr_dir, 'data/traffic_light_ds/simulator_sort/RED')\n",
    "# file list:\n",
    "img_list = [os.path.join(img_dir, f) for f in os.listdir(img_dir) \n",
    "            if os.path.isfile(os.path.join(img_dir, f)) and (f[-4:]=='.jpg' or f[-4:]=='.png' ) ]\n"
   ]
  },
  {
   "cell_type": "markdown",
   "metadata": {},
   "source": [
    "## Check thresholds in RGB colorspace"
   ]
  },
  {
   "cell_type": "code",
   "execution_count": null,
   "metadata": {
    "collapsed": true
   },
   "outputs": [],
   "source": [
    "from ipywidgets import interactive, IntRangeSlider, Dropdown\n",
    "\n",
    "def refresh(filename, r_tres, g_tres, b_tres):\n",
    "    original_image = cv2.cvtColor(cv2.imread(filename), cv2.COLOR_BGR2RGB)\n",
    "    \n",
    "    f, (ax1, ax2) = plt.subplots(1, 2, figsize=(24, 9))\n",
    "    f.tight_layout()\n",
    "    ax1.imshow(original_image)\n",
    "    ax1.set_title('Original image')\n",
    "    \n",
    "    max_thres = np.array([r_tres[1], g_tres[1], b_tres[1]], np.uint8)\n",
    "    min_thres = np.array([r_tres[0], g_tres[0], b_tres[0]], np.uint8)\n",
    "    \n",
    "    bin_image = np.zeros_like(original_image[:, : ,0])\n",
    "    \n",
    "    cv2.inRange(original_image, min_thres, max_thres, bin_image)\n",
    "    ax2.imshow(bin_image, 'gray')\n",
    "    ax2.set_title('thresholds applied')\n",
    "\n",
    "file_selector = Dropdown(options=img_list, value=img_list[0], description='Filename')\n",
    "Rfilter = IntRangeSlider(value=[0, 255], min=0, max=255, step=1, description='Red Channel Thres')\n",
    "Gfilter = IntRangeSlider(value=[0, 255], min=0, max=255, step=1, description='Green Channel Thres')\n",
    "Bfilter = IntRangeSlider(value=[0, 255], min=0, max=255, step=1, description='Blue Channel Thres')\n",
    "\n",
    "\n",
    "interactive(refresh, filename=file_selector, r_tres=Rfilter, g_tres=Gfilter, b_tres=Bfilter)"
   ]
  },
  {
   "cell_type": "markdown",
   "metadata": {
    "collapsed": true
   },
   "source": [
    "## Check thresholds in HSV colorspace"
   ]
  },
  {
   "cell_type": "code",
   "execution_count": null,
   "metadata": {
    "collapsed": true
   },
   "outputs": [],
   "source": [
    "def refresh(filename, h, s, v):\n",
    "    \n",
    "    \n",
    "    f, (ax1, ax2) = plt.subplots(1, 2, figsize=(24, 9))\n",
    "    f.tight_layout()\n",
    "    ax1.imshow(cv2.cvtColor(cv2.imread(filename), cv2.COLOR_BGR2RGB))\n",
    "    ax1.set_title('Original image')\n",
    "    \n",
    "    original_image_hsv = cv2.cvtColor(cv2.imread(filename), cv2.COLOR_BGR2HSV)\n",
    "    max_thres = np.array([h[1], s[1], v[1]], np.uint8)\n",
    "    min_thres = np.array([h[0], s[0], v[0]], np.uint8)\n",
    "    \n",
    "    bin_image = np.zeros_like(original_image_hsv[:, : ,0])\n",
    "    \n",
    "    cv2.inRange(original_image_hsv, min_thres, max_thres, bin_image)\n",
    "    ax2.imshow(bin_image, 'gray')\n",
    "    ax2.set_title('thresholds applied')\n",
    "\n",
    "file_selector = Dropdown(options=img_list, value=img_list[0], description='Filename')\n",
    "h_filter = IntRangeSlider(value=[0, 255], min=0, max=255, step=1, description='Hue Thres')\n",
    "s_filter = IntRangeSlider(value=[0, 255], min=0, max=255, step=1, description='Saturation Thres')\n",
    "v_filter = IntRangeSlider(value=[0, 255], min=0, max=255, step=1, description='Value Thres')\n",
    "\n",
    "\n",
    "interactive(refresh, filename=file_selector, h=h_filter, s=s_filter, v=v_filter)"
   ]
  },
  {
   "cell_type": "code",
   "execution_count": null,
   "metadata": {
    "collapsed": true
   },
   "outputs": [],
   "source": []
  }
 ],
 "metadata": {
  "kernelspec": {
   "display_name": "Python 3",
   "language": "python",
   "name": "python3"
  },
  "language_info": {
   "codemirror_mode": {
    "name": "ipython",
    "version": 3
   },
   "file_extension": ".py",
   "mimetype": "text/x-python",
   "name": "python",
   "nbconvert_exporter": "python",
   "pygments_lexer": "ipython3",
   "version": "3.5.2"
  },
  "widgets": {
   "state": {},
   "version": "1.1.2"
  }
 },
 "nbformat": 4,
 "nbformat_minor": 2
}
